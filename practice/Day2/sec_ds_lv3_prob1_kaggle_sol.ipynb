{
 "cells": [
  {
   "cell_type": "markdown",
   "id": "765c0422",
   "metadata": {},
   "source": [
    "# 문제 6\n",
    "\n",
    "[Kaggle 형] train_prob.csv로 문제 failure 예측하는 모델을 만들고, \n",
    "\n",
    "test_prob.csv에 대한 failure가 1일 확률 예측하여 다음과 같은 형식의 answer6.csv를 만들어라. \n",
    "\n",
    "측정 지표는 AUC(area under of ROC curve)이다. id 는 테스트 케이스의 id 이고, failure에는 failure가 1이 될 확률이다.\n",
    "\n",
    "id,failure\n",
    "\n",
    "16115, 0.1\n",
    "\n",
    "16116, 0.2\n"
   ]
  },
  {
   "cell_type": "code",
   "execution_count": 67,
   "id": "422cead3",
   "metadata": {},
   "outputs": [
    {
     "name": "stdout",
     "output_type": "stream",
     "text": [
      "3.7.4 (tags/v3.7.4:e09359112e, Jul  8 2019, 20:34:20) [MSC v.1916 64 bit (AMD64)]\n",
      "pandas 0.25.1\n",
      "numpy 1.18.5\n",
      "sklearn 0.21.3\n",
      "scipy 1.5.2\n",
      "mlxtend 0.15.0.0\n",
      "statsmodels 0.11.1\n"
     ]
    }
   ],
   "source": [
    "# 실행 환경 확인\n",
    "\n",
    "import pandas as pd\n",
    "import numpy as np\n",
    "import sklearn\n",
    "import scipy\n",
    "import statsmodels\n",
    "import mlxtend\n",
    "import sys\n",
    "\n",
    "print(sys.version)\n",
    "for i in [pd, np, sklearn, scipy, mlxtend, statsmodels]:\n",
    "    print(i.__name__, i.__version__)"
   ]
  },
  {
   "cell_type": "code",
   "execution_count": 68,
   "id": "2c4cd662",
   "metadata": {},
   "outputs": [
    {
     "data": {
      "text/html": [
       "<div>\n",
       "<style scoped>\n",
       "    .dataframe tbody tr th:only-of-type {\n",
       "        vertical-align: middle;\n",
       "    }\n",
       "\n",
       "    .dataframe tbody tr th {\n",
       "        vertical-align: top;\n",
       "    }\n",
       "\n",
       "    .dataframe thead th {\n",
       "        text-align: right;\n",
       "    }\n",
       "</style>\n",
       "<table border=\"1\" class=\"dataframe\">\n",
       "  <thead>\n",
       "    <tr style=\"text-align: right;\">\n",
       "      <th></th>\n",
       "      <th>product_code</th>\n",
       "      <th>loading</th>\n",
       "      <th>attribute_0</th>\n",
       "      <th>attribute_1</th>\n",
       "      <th>attribute_2</th>\n",
       "      <th>attribute_3</th>\n",
       "      <th>measurement_0</th>\n",
       "      <th>measurement_1</th>\n",
       "      <th>measurement_2</th>\n",
       "      <th>measurement_3</th>\n",
       "      <th>...</th>\n",
       "      <th>measurement_9</th>\n",
       "      <th>measurement_10</th>\n",
       "      <th>measurement_11</th>\n",
       "      <th>measurement_12</th>\n",
       "      <th>measurement_13</th>\n",
       "      <th>measurement_14</th>\n",
       "      <th>measurement_15</th>\n",
       "      <th>measurement_16</th>\n",
       "      <th>measurement_17</th>\n",
       "      <th>failure</th>\n",
       "    </tr>\n",
       "    <tr>\n",
       "      <th>id</th>\n",
       "      <th></th>\n",
       "      <th></th>\n",
       "      <th></th>\n",
       "      <th></th>\n",
       "      <th></th>\n",
       "      <th></th>\n",
       "      <th></th>\n",
       "      <th></th>\n",
       "      <th></th>\n",
       "      <th></th>\n",
       "      <th></th>\n",
       "      <th></th>\n",
       "      <th></th>\n",
       "      <th></th>\n",
       "      <th></th>\n",
       "      <th></th>\n",
       "      <th></th>\n",
       "      <th></th>\n",
       "      <th></th>\n",
       "      <th></th>\n",
       "      <th></th>\n",
       "    </tr>\n",
       "  </thead>\n",
       "  <tbody>\n",
       "    <tr>\n",
       "      <td>0</td>\n",
       "      <td>A</td>\n",
       "      <td>80.10</td>\n",
       "      <td>material_7</td>\n",
       "      <td>material_8</td>\n",
       "      <td>9</td>\n",
       "      <td>5</td>\n",
       "      <td>7</td>\n",
       "      <td>8</td>\n",
       "      <td>4</td>\n",
       "      <td>18.040</td>\n",
       "      <td>...</td>\n",
       "      <td>10.672</td>\n",
       "      <td>15.859</td>\n",
       "      <td>17.594</td>\n",
       "      <td>15.193</td>\n",
       "      <td>15.029</td>\n",
       "      <td>NaN</td>\n",
       "      <td>13.034</td>\n",
       "      <td>14.684</td>\n",
       "      <td>764.100</td>\n",
       "      <td>0</td>\n",
       "    </tr>\n",
       "    <tr>\n",
       "      <td>1</td>\n",
       "      <td>A</td>\n",
       "      <td>84.89</td>\n",
       "      <td>material_7</td>\n",
       "      <td>material_8</td>\n",
       "      <td>9</td>\n",
       "      <td>5</td>\n",
       "      <td>14</td>\n",
       "      <td>3</td>\n",
       "      <td>3</td>\n",
       "      <td>18.213</td>\n",
       "      <td>...</td>\n",
       "      <td>12.448</td>\n",
       "      <td>17.947</td>\n",
       "      <td>17.915</td>\n",
       "      <td>11.755</td>\n",
       "      <td>14.732</td>\n",
       "      <td>15.425</td>\n",
       "      <td>14.395</td>\n",
       "      <td>15.631</td>\n",
       "      <td>682.057</td>\n",
       "      <td>0</td>\n",
       "    </tr>\n",
       "    <tr>\n",
       "      <td>2</td>\n",
       "      <td>A</td>\n",
       "      <td>82.43</td>\n",
       "      <td>material_7</td>\n",
       "      <td>material_8</td>\n",
       "      <td>9</td>\n",
       "      <td>5</td>\n",
       "      <td>12</td>\n",
       "      <td>1</td>\n",
       "      <td>5</td>\n",
       "      <td>18.057</td>\n",
       "      <td>...</td>\n",
       "      <td>12.715</td>\n",
       "      <td>15.607</td>\n",
       "      <td>NaN</td>\n",
       "      <td>13.798</td>\n",
       "      <td>16.711</td>\n",
       "      <td>18.631</td>\n",
       "      <td>14.094</td>\n",
       "      <td>17.946</td>\n",
       "      <td>663.376</td>\n",
       "      <td>0</td>\n",
       "    </tr>\n",
       "    <tr>\n",
       "      <td>3</td>\n",
       "      <td>A</td>\n",
       "      <td>101.07</td>\n",
       "      <td>material_7</td>\n",
       "      <td>material_8</td>\n",
       "      <td>9</td>\n",
       "      <td>5</td>\n",
       "      <td>13</td>\n",
       "      <td>2</td>\n",
       "      <td>6</td>\n",
       "      <td>17.295</td>\n",
       "      <td>...</td>\n",
       "      <td>12.471</td>\n",
       "      <td>16.346</td>\n",
       "      <td>18.377</td>\n",
       "      <td>10.020</td>\n",
       "      <td>15.250</td>\n",
       "      <td>15.562</td>\n",
       "      <td>16.154</td>\n",
       "      <td>17.172</td>\n",
       "      <td>826.282</td>\n",
       "      <td>0</td>\n",
       "    </tr>\n",
       "    <tr>\n",
       "      <td>4</td>\n",
       "      <td>A</td>\n",
       "      <td>188.06</td>\n",
       "      <td>material_7</td>\n",
       "      <td>material_8</td>\n",
       "      <td>9</td>\n",
       "      <td>5</td>\n",
       "      <td>9</td>\n",
       "      <td>2</td>\n",
       "      <td>8</td>\n",
       "      <td>19.346</td>\n",
       "      <td>...</td>\n",
       "      <td>10.337</td>\n",
       "      <td>17.082</td>\n",
       "      <td>19.932</td>\n",
       "      <td>12.428</td>\n",
       "      <td>16.182</td>\n",
       "      <td>12.760</td>\n",
       "      <td>13.153</td>\n",
       "      <td>16.412</td>\n",
       "      <td>579.885</td>\n",
       "      <td>0</td>\n",
       "    </tr>\n",
       "  </tbody>\n",
       "</table>\n",
       "<p>5 rows × 25 columns</p>\n",
       "</div>"
      ],
      "text/plain": [
       "   product_code  loading attribute_0 attribute_1  attribute_2  attribute_3  \\\n",
       "id                                                                           \n",
       "0             A    80.10  material_7  material_8            9            5   \n",
       "1             A    84.89  material_7  material_8            9            5   \n",
       "2             A    82.43  material_7  material_8            9            5   \n",
       "3             A   101.07  material_7  material_8            9            5   \n",
       "4             A   188.06  material_7  material_8            9            5   \n",
       "\n",
       "    measurement_0  measurement_1  measurement_2  measurement_3  ...  \\\n",
       "id                                                              ...   \n",
       "0               7              8              4         18.040  ...   \n",
       "1              14              3              3         18.213  ...   \n",
       "2              12              1              5         18.057  ...   \n",
       "3              13              2              6         17.295  ...   \n",
       "4               9              2              8         19.346  ...   \n",
       "\n",
       "    measurement_9  measurement_10  measurement_11  measurement_12  \\\n",
       "id                                                                  \n",
       "0          10.672          15.859          17.594          15.193   \n",
       "1          12.448          17.947          17.915          11.755   \n",
       "2          12.715          15.607             NaN          13.798   \n",
       "3          12.471          16.346          18.377          10.020   \n",
       "4          10.337          17.082          19.932          12.428   \n",
       "\n",
       "    measurement_13  measurement_14  measurement_15  measurement_16  \\\n",
       "id                                                                   \n",
       "0           15.029             NaN          13.034          14.684   \n",
       "1           14.732          15.425          14.395          15.631   \n",
       "2           16.711          18.631          14.094          17.946   \n",
       "3           15.250          15.562          16.154          17.172   \n",
       "4           16.182          12.760          13.153          16.412   \n",
       "\n",
       "    measurement_17  failure  \n",
       "id                           \n",
       "0          764.100        0  \n",
       "1          682.057        0  \n",
       "2          663.376        0  \n",
       "3          826.282        0  \n",
       "4          579.885        0  \n",
       "\n",
       "[5 rows x 25 columns]"
      ]
     },
     "execution_count": 68,
     "metadata": {},
     "output_type": "execute_result"
    }
   ],
   "source": [
    "df_train = pd.read_csv('train_prob.csv', index_col='id')\n",
    "df_train.head()"
   ]
  },
  {
   "cell_type": "code",
   "execution_count": 69,
   "id": "e639e27e",
   "metadata": {},
   "outputs": [
    {
     "data": {
      "text/html": [
       "<div>\n",
       "<style scoped>\n",
       "    .dataframe tbody tr th:only-of-type {\n",
       "        vertical-align: middle;\n",
       "    }\n",
       "\n",
       "    .dataframe tbody tr th {\n",
       "        vertical-align: top;\n",
       "    }\n",
       "\n",
       "    .dataframe thead th {\n",
       "        text-align: right;\n",
       "    }\n",
       "</style>\n",
       "<table border=\"1\" class=\"dataframe\">\n",
       "  <thead>\n",
       "    <tr style=\"text-align: right;\">\n",
       "      <th></th>\n",
       "      <th>product_code</th>\n",
       "      <th>loading</th>\n",
       "      <th>attribute_0</th>\n",
       "      <th>attribute_1</th>\n",
       "      <th>attribute_2</th>\n",
       "      <th>attribute_3</th>\n",
       "      <th>measurement_0</th>\n",
       "      <th>measurement_1</th>\n",
       "      <th>measurement_2</th>\n",
       "      <th>measurement_3</th>\n",
       "      <th>...</th>\n",
       "      <th>measurement_8</th>\n",
       "      <th>measurement_9</th>\n",
       "      <th>measurement_10</th>\n",
       "      <th>measurement_11</th>\n",
       "      <th>measurement_12</th>\n",
       "      <th>measurement_13</th>\n",
       "      <th>measurement_14</th>\n",
       "      <th>measurement_15</th>\n",
       "      <th>measurement_16</th>\n",
       "      <th>measurement_17</th>\n",
       "    </tr>\n",
       "    <tr>\n",
       "      <th>id</th>\n",
       "      <th></th>\n",
       "      <th></th>\n",
       "      <th></th>\n",
       "      <th></th>\n",
       "      <th></th>\n",
       "      <th></th>\n",
       "      <th></th>\n",
       "      <th></th>\n",
       "      <th></th>\n",
       "      <th></th>\n",
       "      <th></th>\n",
       "      <th></th>\n",
       "      <th></th>\n",
       "      <th></th>\n",
       "      <th></th>\n",
       "      <th></th>\n",
       "      <th></th>\n",
       "      <th></th>\n",
       "      <th></th>\n",
       "      <th></th>\n",
       "      <th></th>\n",
       "    </tr>\n",
       "  </thead>\n",
       "  <tbody>\n",
       "    <tr>\n",
       "      <td>16115</td>\n",
       "      <td>D</td>\n",
       "      <td>76.89</td>\n",
       "      <td>material_7</td>\n",
       "      <td>material_5</td>\n",
       "      <td>6</td>\n",
       "      <td>6</td>\n",
       "      <td>16</td>\n",
       "      <td>2</td>\n",
       "      <td>7</td>\n",
       "      <td>17.427</td>\n",
       "      <td>...</td>\n",
       "      <td>18.241</td>\n",
       "      <td>11.536</td>\n",
       "      <td>14.690</td>\n",
       "      <td>19.622</td>\n",
       "      <td>11.082</td>\n",
       "      <td>16.323</td>\n",
       "      <td>15.633</td>\n",
       "      <td>16.153</td>\n",
       "      <td>15.640</td>\n",
       "      <td>648.974</td>\n",
       "    </tr>\n",
       "    <tr>\n",
       "      <td>16116</td>\n",
       "      <td>D</td>\n",
       "      <td>96.13</td>\n",
       "      <td>material_7</td>\n",
       "      <td>material_5</td>\n",
       "      <td>6</td>\n",
       "      <td>6</td>\n",
       "      <td>9</td>\n",
       "      <td>10</td>\n",
       "      <td>5</td>\n",
       "      <td>18.014</td>\n",
       "      <td>...</td>\n",
       "      <td>19.056</td>\n",
       "      <td>10.746</td>\n",
       "      <td>NaN</td>\n",
       "      <td>18.475</td>\n",
       "      <td>10.174</td>\n",
       "      <td>15.710</td>\n",
       "      <td>16.274</td>\n",
       "      <td>12.229</td>\n",
       "      <td>17.204</td>\n",
       "      <td>741.103</td>\n",
       "    </tr>\n",
       "    <tr>\n",
       "      <td>16117</td>\n",
       "      <td>D</td>\n",
       "      <td>124.40</td>\n",
       "      <td>material_7</td>\n",
       "      <td>material_5</td>\n",
       "      <td>6</td>\n",
       "      <td>6</td>\n",
       "      <td>10</td>\n",
       "      <td>15</td>\n",
       "      <td>0</td>\n",
       "      <td>18.374</td>\n",
       "      <td>...</td>\n",
       "      <td>20.689</td>\n",
       "      <td>10.240</td>\n",
       "      <td>16.035</td>\n",
       "      <td>18.224</td>\n",
       "      <td>11.005</td>\n",
       "      <td>15.925</td>\n",
       "      <td>16.257</td>\n",
       "      <td>16.338</td>\n",
       "      <td>17.653</td>\n",
       "      <td>NaN</td>\n",
       "    </tr>\n",
       "    <tr>\n",
       "      <td>16118</td>\n",
       "      <td>D</td>\n",
       "      <td>175.84</td>\n",
       "      <td>material_7</td>\n",
       "      <td>material_5</td>\n",
       "      <td>6</td>\n",
       "      <td>6</td>\n",
       "      <td>4</td>\n",
       "      <td>8</td>\n",
       "      <td>15</td>\n",
       "      <td>18.056</td>\n",
       "      <td>...</td>\n",
       "      <td>19.442</td>\n",
       "      <td>12.015</td>\n",
       "      <td>18.195</td>\n",
       "      <td>19.410</td>\n",
       "      <td>10.761</td>\n",
       "      <td>16.176</td>\n",
       "      <td>16.926</td>\n",
       "      <td>13.813</td>\n",
       "      <td>13.615</td>\n",
       "      <td>NaN</td>\n",
       "    </tr>\n",
       "    <tr>\n",
       "      <td>16119</td>\n",
       "      <td>D</td>\n",
       "      <td>118.70</td>\n",
       "      <td>material_7</td>\n",
       "      <td>material_5</td>\n",
       "      <td>6</td>\n",
       "      <td>6</td>\n",
       "      <td>15</td>\n",
       "      <td>8</td>\n",
       "      <td>5</td>\n",
       "      <td>16.513</td>\n",
       "      <td>...</td>\n",
       "      <td>19.007</td>\n",
       "      <td>12.615</td>\n",
       "      <td>15.775</td>\n",
       "      <td>18.778</td>\n",
       "      <td>9.683</td>\n",
       "      <td>NaN</td>\n",
       "      <td>17.066</td>\n",
       "      <td>14.690</td>\n",
       "      <td>18.798</td>\n",
       "      <td>NaN</td>\n",
       "    </tr>\n",
       "  </tbody>\n",
       "</table>\n",
       "<p>5 rows × 24 columns</p>\n",
       "</div>"
      ],
      "text/plain": [
       "      product_code  loading attribute_0 attribute_1  attribute_2  attribute_3  \\\n",
       "id                                                                              \n",
       "16115            D    76.89  material_7  material_5            6            6   \n",
       "16116            D    96.13  material_7  material_5            6            6   \n",
       "16117            D   124.40  material_7  material_5            6            6   \n",
       "16118            D   175.84  material_7  material_5            6            6   \n",
       "16119            D   118.70  material_7  material_5            6            6   \n",
       "\n",
       "       measurement_0  measurement_1  measurement_2  measurement_3  ...  \\\n",
       "id                                                                 ...   \n",
       "16115             16              2              7         17.427  ...   \n",
       "16116              9             10              5         18.014  ...   \n",
       "16117             10             15              0         18.374  ...   \n",
       "16118              4              8             15         18.056  ...   \n",
       "16119             15              8              5         16.513  ...   \n",
       "\n",
       "       measurement_8  measurement_9  measurement_10  measurement_11  \\\n",
       "id                                                                    \n",
       "16115         18.241         11.536          14.690          19.622   \n",
       "16116         19.056         10.746             NaN          18.475   \n",
       "16117         20.689         10.240          16.035          18.224   \n",
       "16118         19.442         12.015          18.195          19.410   \n",
       "16119         19.007         12.615          15.775          18.778   \n",
       "\n",
       "       measurement_12  measurement_13  measurement_14  measurement_15  \\\n",
       "id                                                                      \n",
       "16115          11.082          16.323          15.633          16.153   \n",
       "16116          10.174          15.710          16.274          12.229   \n",
       "16117          11.005          15.925          16.257          16.338   \n",
       "16118          10.761          16.176          16.926          13.813   \n",
       "16119           9.683             NaN          17.066          14.690   \n",
       "\n",
       "       measurement_16  measurement_17  \n",
       "id                                     \n",
       "16115          15.640         648.974  \n",
       "16116          17.204         741.103  \n",
       "16117          17.653             NaN  \n",
       "16118          13.615             NaN  \n",
       "16119          18.798             NaN  \n",
       "\n",
       "[5 rows x 24 columns]"
      ]
     },
     "execution_count": 69,
     "metadata": {},
     "output_type": "execute_result"
    }
   ],
   "source": [
    "df_test = pd.read_csv('test_prob.csv', index_col='id')\n",
    "df_test.head()"
   ]
  },
  {
   "cell_type": "code",
   "execution_count": 70,
   "id": "820e891f",
   "metadata": {},
   "outputs": [
    {
     "data": {
      "text/html": [
       "<div>\n",
       "<style scoped>\n",
       "    .dataframe tbody tr th:only-of-type {\n",
       "        vertical-align: middle;\n",
       "    }\n",
       "\n",
       "    .dataframe tbody tr th {\n",
       "        vertical-align: top;\n",
       "    }\n",
       "\n",
       "    .dataframe thead th {\n",
       "        text-align: right;\n",
       "    }\n",
       "</style>\n",
       "<table border=\"1\" class=\"dataframe\">\n",
       "  <thead>\n",
       "    <tr style=\"text-align: right;\">\n",
       "      <th></th>\n",
       "      <th>failure</th>\n",
       "    </tr>\n",
       "    <tr>\n",
       "      <th>id</th>\n",
       "      <th></th>\n",
       "    </tr>\n",
       "  </thead>\n",
       "  <tbody>\n",
       "    <tr>\n",
       "      <td>16115</td>\n",
       "      <td>1</td>\n",
       "    </tr>\n",
       "    <tr>\n",
       "      <td>16116</td>\n",
       "      <td>0</td>\n",
       "    </tr>\n",
       "    <tr>\n",
       "      <td>16117</td>\n",
       "      <td>0</td>\n",
       "    </tr>\n",
       "    <tr>\n",
       "      <td>16118</td>\n",
       "      <td>1</td>\n",
       "    </tr>\n",
       "    <tr>\n",
       "      <td>16119</td>\n",
       "      <td>0</td>\n",
       "    </tr>\n",
       "  </tbody>\n",
       "</table>\n",
       "</div>"
      ],
      "text/plain": [
       "       failure\n",
       "id            \n",
       "16115        1\n",
       "16116        0\n",
       "16117        0\n",
       "16118        1\n",
       "16119        0"
      ]
     },
     "execution_count": 70,
     "metadata": {},
     "output_type": "execute_result"
    }
   ],
   "source": [
    "df_ans = pd.read_csv('test_prob_ans.csv', index_col='id')\n",
    "df_ans.head()"
   ]
  },
  {
   "cell_type": "code",
   "execution_count": 71,
   "id": "5ab26da2",
   "metadata": {},
   "outputs": [
    {
     "data": {
      "text/plain": [
       "array(['A', 'B', 'C', 'E'], dtype=object)"
      ]
     },
     "execution_count": 71,
     "metadata": {},
     "output_type": "execute_result"
    }
   ],
   "source": [
    "df_train['product_code'].unique()"
   ]
  },
  {
   "cell_type": "code",
   "execution_count": 72,
   "id": "8ac69b32",
   "metadata": {},
   "outputs": [
    {
     "data": {
      "text/plain": [
       "array(['D'], dtype=object)"
      ]
     },
     "execution_count": 72,
     "metadata": {},
     "output_type": "execute_result"
    }
   ],
   "source": [
    "df_test['product_code'].unique()"
   ]
  },
  {
   "cell_type": "code",
   "execution_count": 73,
   "id": "a9c810e2",
   "metadata": {},
   "outputs": [],
   "source": [
    "# 문제 1에서 failure와 연관성있는 결측치 변수를 추가합니다.\n",
    "df_train['na_1'] = df_train['measurement_3'].isna()\n",
    "df_train['na_2'] = df_train['measurement_5'].isna()\n",
    "df_test['na_1'] = df_test['measurement_3'].isna()\n",
    "df_test['na_2'] = df_test['measurement_5'].isna()"
   ]
  },
  {
   "cell_type": "code",
   "execution_count": 74,
   "id": "525c17e2",
   "metadata": {},
   "outputs": [],
   "source": [
    "from sklearn.experimental import enable_iterative_imputer\n",
    "from sklearn.impute import IterativeImputer\n",
    "from sklearn.linear_model import LinearRegression\n",
    "\n",
    "# 모델을 생성합니다\n",
    "def create_imp():\n",
    "    return  IterativeImputer(LinearRegression(),random_state = 123)\n",
    "\n",
    "X_imp = ['measurement_{}'.format(i) for i in range(3, 10)] + ['measurement_17']\n",
    "# Test에 Train에서 등장하지 않은 product_code가 있습니다.\n",
    "# product_code 별로 만드는 것이라, test와 결합하여 모델을 만듭니다.\n",
    "# product_code 각각에 대해 create_imp로 모델을 생성하고, 학습을 시킵니다.\n",
    "s_imp = pd.concat([\n",
    "    df_train[X_imp + ['product_code']],\n",
    "    df_test[X_imp + ['product_code']]\n",
    "]).groupby('product_code').apply(lambda x: create_imp().fit(x[X_imp]))\n",
    "\n",
    "# 학습한 모델을 가지고, 결측치를 보완합니다.\n",
    "df_train[X_imp] = df_train.groupby('product_code').apply(\n",
    "    lambda x: pd.DataFrame(s_imp.loc[x.name].transform(x[X_imp]), index=x.index, columns=X_imp)\n",
    ")\n",
    "df_test[X_imp] = df_test.groupby('product_code').apply(\n",
    "    lambda x: pd.DataFrame(s_imp.loc[x.name].transform(x[X_imp]), index=x.index, columns=X_imp)\n",
    ")"
   ]
  },
  {
   "cell_type": "code",
   "execution_count": 75,
   "id": "a13b972d",
   "metadata": {},
   "outputs": [],
   "source": [
    "cols = ['measurement_{}'.format(i) for i in range(10, 17)]\n",
    "# Test에 Train에서 등장하지 않은 product_code가 있습니다.\n",
    "# 병합하여 통계를 냅니다.\n",
    "df_mean = pd.concat([\n",
    "    df_train[cols + ['product_code']],\n",
    "    df_test[cols + ['product_code']],\n",
    "]).groupby('product_code')[cols].mean()\n",
    "df_train[cols] = df_train.groupby('product_code')[cols].apply(\n",
    "    lambda x: pd.DataFrame(x.fillna(df_mean.loc[x.name]), index=x.index)\n",
    ")\n",
    "df_test[cols] = df_test.groupby('product_code')[cols].apply(\n",
    "    lambda x: pd.DataFrame(x.fillna(df_mean.loc[x.name]), index=x.index)\n",
    ")"
   ]
  },
  {
   "cell_type": "code",
   "execution_count": 76,
   "id": "39f52426",
   "metadata": {},
   "outputs": [],
   "source": [
    "# loading의 결측치를 처리합니다.\n",
    "df_train['loading'] = df_train['loading'].fillna(df_train['loading'].mean())\n",
    "df_test['loading'] = df_test['loading'].fillna(df_train['loading'].mean())"
   ]
  },
  {
   "cell_type": "code",
   "execution_count": 89,
   "id": "86b3c8df",
   "metadata": {},
   "outputs": [
    {
     "data": {
      "text/plain": [
       "(0, 0)"
      ]
     },
     "execution_count": 89,
     "metadata": {},
     "output_type": "execute_result"
    }
   ],
   "source": [
    "# 결측여부를 체크합니다.\n",
    "df_train.isna().sum().sum(), df_test.isna().sum().sum()"
   ]
  },
  {
   "cell_type": "code",
   "execution_count": 78,
   "id": "1391f9a3",
   "metadata": {},
   "outputs": [],
   "source": [
    "from sklearn.compose import ColumnTransformer\n",
    "from sklearn.pipeline import make_pipeline\n",
    "from sklearn.preprocessing import StandardScaler\n",
    "from sklearn.model_selection import cross_val_score, StratifiedKFold\n",
    "from sklearn.metrics import roc_auc_score\n",
    "cv = StratifiedKFold(n_splits=5, random_state=123, shuffle=True)"
   ]
  },
  {
   "cell_type": "code",
   "execution_count": 79,
   "id": "4c071cc0",
   "metadata": {},
   "outputs": [
    {
     "data": {
      "text/plain": [
       "(array([0.58193084, 0.5891706 , 0.57115559, 0.61209017, 0.58374776]),\n",
       " 0.5876189917347917)"
      ]
     },
     "execution_count": 79,
     "metadata": {},
     "output_type": "execute_result"
    }
   ],
   "source": [
    "# baseline 모델을 만듭니다. PCA(n_components=7)을 넣습니다.\n",
    "from sklearn.decomposition import PCA\n",
    "from sklearn.linear_model import LogisticRegression\n",
    "m_cols = ['measurement_{}'.format(i) for i in range(0, 18)]\n",
    "# ColumnTransformer를 통한 PCA를 포함한 전처리기를 구성합니다.\n",
    "ct_pca = ColumnTransformer([\n",
    "    ('std', StandardScaler(), ['loading']), \n",
    "    ('std_pca', make_pipeline(StandardScaler(), PCA(n_components=7)), m_cols), \n",
    "    ('pt', 'passthrough', ['na_1', 'na_2'])\n",
    "])\n",
    "clf_lr = make_pipeline(ct_pca, LogisticRegression(solver='lbfgs'))\n",
    "X_lr = m_cols + ['loading', 'na_1', 'na_2']\n",
    "scores_ = cross_val_score(clf_lr, df_train[X_lr], df_train['failure'], scoring='roc_auc', cv=cv)\n",
    "scores_, np.mean(scores_)"
   ]
  },
  {
   "cell_type": "code",
   "execution_count": 80,
   "id": "5cf6f20d",
   "metadata": {},
   "outputs": [],
   "source": [
    "clf_lr.fit(df_train[X_lr], df_train['failure'])\n",
    "pd.DataFrame(\n",
    "    clf_lr.predict_proba(df_test[X_lr])[:, 1],\n",
    "    columns=['failure'],\n",
    "    index=df_test.index\n",
    ").to_csv('answer6.csv') # , index=None 인덱스는 제외하고자 할때"
   ]
  },
  {
   "cell_type": "code",
   "execution_count": 81,
   "id": "5087f45a",
   "metadata": {},
   "outputs": [
    {
     "data": {
      "text/plain": [
       "0.5907111061151079"
      ]
     },
     "execution_count": 81,
     "metadata": {},
     "output_type": "execute_result"
    }
   ],
   "source": [
    "roc_auc_score(df_ans['failure'], clf_lr.predict_proba(df_test[X_lr])[:, 1])"
   ]
  },
  {
   "cell_type": "code",
   "execution_count": 82,
   "id": "24c62cb3",
   "metadata": {},
   "outputs": [
    {
     "data": {
      "text/plain": [
       "(array([0.58840017, 0.5909264 , 0.57725538, 0.61231432, 0.58375591]),\n",
       " 0.590530435171204)"
      ]
     },
     "execution_count": 82,
     "metadata": {},
     "output_type": "execute_result"
    }
   ],
   "source": [
    "# 전진선택법으로 도출한 속성으로 모델을 만들어 봅니다.\n",
    "ct_2 = ColumnTransformer([\n",
    "    ('std', StandardScaler(), ['loading','measurement_1', 'measurement_4', 'measurement_14', 'measurement_17']), \n",
    "    ('pt', 'passthrough', ['na_1'])\n",
    "])\n",
    "clf_lr_2 = make_pipeline(ct_2, LogisticRegression(solver='lbfgs'))\n",
    "X_lr_2 = ['loading','measurement_1', 'measurement_4', 'measurement_14', 'measurement_17', 'na_1']\n",
    "scores_ = cross_val_score(clf_lr_2, df_train[X_lr_2], df_train['failure'], scoring='roc_auc', cv=cv)\n",
    "scores_, np.mean(scores_)"
   ]
  },
  {
   "cell_type": "code",
   "execution_count": 83,
   "id": "888e9257",
   "metadata": {},
   "outputs": [
    {
     "data": {
      "text/plain": [
       "0.5883988309352517"
      ]
     },
     "execution_count": 83,
     "metadata": {},
     "output_type": "execute_result"
    }
   ],
   "source": [
    "clf_lr_2.fit(df_train[X_lr_2], df_train['failure'])\n",
    "roc_auc_score(df_ans['failure'], clf_lr_2.predict_proba(df_test[X_lr_2])[:, 1])"
   ]
  },
  {
   "cell_type": "code",
   "execution_count": 86,
   "id": "f488febd",
   "metadata": {},
   "outputs": [
    {
     "data": {
      "text/plain": [
       "(array([0.58614124, 0.59083755, 0.57488773, 0.61284115, 0.58439286]),\n",
       " 0.5898201073026861)"
      ]
     },
     "execution_count": 86,
     "metadata": {},
     "output_type": "execute_result"
    }
   ],
   "source": [
    "# VotingClassifier를 만들어 봅니다.\n",
    "# soft voting을 하여 확률 기반으로 결과를 도출합니다.\n",
    "from sklearn.ensemble import VotingClassifier\n",
    "clf_vt = VotingClassifier([\n",
    "    ('lr_1', clf_lr),\n",
    "    ('lr_2', clf_lr_2),\n",
    "], voting='soft')\n",
    "scores_ = cross_val_score(clf_vt, df_train, df_train['failure'], scoring='roc_auc', cv=cv)\n",
    "scores_, np.mean(scores_)"
   ]
  },
  {
   "cell_type": "code",
   "execution_count": 88,
   "id": "42ca911a",
   "metadata": {},
   "outputs": [
    {
     "data": {
      "text/plain": [
       "0.5901139838129497"
      ]
     },
     "execution_count": 88,
     "metadata": {},
     "output_type": "execute_result"
    }
   ],
   "source": [
    "clf_vt.fit(df_train[df_test.columns], df_train['failure'])\n",
    "roc_auc_score(df_ans['failure'], clf_vt.predict_proba(df_test)[:, 1])"
   ]
  },
  {
   "cell_type": "code",
   "execution_count": 91,
   "id": "97387f94",
   "metadata": {},
   "outputs": [],
   "source": [
    "# 실제 상황이었다면, 교차검증결과가 가장 좋은 모델을 제출했을 껍니다.\n",
    "clf_lr_2.fit(df_train[X_lr_2], df_train['failure'])\n",
    "pd.DataFrame(\n",
    "    clf_lr_2.predict_proba(df_test[X_lr_2])[:, 1],\n",
    "    columns=['failure'],\n",
    "    index=df_test.index\n",
    ").to_csv('answer6.csv')"
   ]
  },
  {
   "cell_type": "code",
   "execution_count": null,
   "id": "a6b9cab6",
   "metadata": {},
   "outputs": [],
   "source": []
  }
 ],
 "metadata": {
  "kernelspec": {
   "display_name": "Python 3 (ipykernel)",
   "language": "python",
   "name": "python3"
  },
  "language_info": {
   "codemirror_mode": {
    "name": "ipython",
    "version": 3
   },
   "file_extension": ".py",
   "mimetype": "text/x-python",
   "name": "python",
   "nbconvert_exporter": "python",
   "pygments_lexer": "ipython3",
   "version": "3.7.4"
  }
 },
 "nbformat": 4,
 "nbformat_minor": 5
}
