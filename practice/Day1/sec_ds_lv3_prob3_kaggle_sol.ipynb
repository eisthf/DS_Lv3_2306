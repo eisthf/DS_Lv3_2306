{
 "cells": [
  {
   "cell_type": "code",
   "execution_count": 10,
   "id": "b249423b",
   "metadata": {},
   "outputs": [
    {
     "name": "stdout",
     "output_type": "stream",
     "text": [
      "3.7.4 (tags/v3.7.4:e09359112e, Jul  8 2019, 20:34:20) [MSC v.1916 64 bit (AMD64)]\n",
      "pandas 0.25.1\n",
      "numpy 1.18.5\n",
      "sklearn 0.21.3\n",
      "scipy 1.5.2\n",
      "mlxtend 0.15.0.0\n",
      "statsmodels 0.11.1\n",
      "xgboost 0.80\n"
     ]
    }
   ],
   "source": [
    "# 실행 환경 확인\n",
    "\n",
    "import pandas as pd\n",
    "import numpy as np\n",
    "import sklearn\n",
    "import scipy\n",
    "import statsmodels\n",
    "import mlxtend\n",
    "import sys\n",
    "import xgboost as xgb\n",
    "\n",
    "print(sys.version)\n",
    "for i in [pd, np, sklearn, scipy, mlxtend, statsmodels, xgb]:\n",
    "    print(i.__name__, i.__version__)"
   ]
  },
  {
   "cell_type": "code",
   "execution_count": 11,
   "id": "40d1ef5d",
   "metadata": {},
   "outputs": [
    {
     "data": {
      "text/html": [
       "<div>\n",
       "<style scoped>\n",
       "    .dataframe tbody tr th:only-of-type {\n",
       "        vertical-align: middle;\n",
       "    }\n",
       "\n",
       "    .dataframe tbody tr th {\n",
       "        vertical-align: top;\n",
       "    }\n",
       "\n",
       "    .dataframe thead th {\n",
       "        text-align: right;\n",
       "    }\n",
       "</style>\n",
       "<table border=\"1\" class=\"dataframe\">\n",
       "  <thead>\n",
       "    <tr style=\"text-align: right;\">\n",
       "      <th></th>\n",
       "      <th>Date</th>\n",
       "      <th>DateHour</th>\n",
       "      <th>Minute</th>\n",
       "      <th>Value</th>\n",
       "    </tr>\n",
       "  </thead>\n",
       "  <tbody>\n",
       "    <tr>\n",
       "      <td>0</td>\n",
       "      <td>2021-01-01 00:15:00</td>\n",
       "      <td>2021-01-01 00:00:00</td>\n",
       "      <td>15분</td>\n",
       "      <td>62</td>\n",
       "    </tr>\n",
       "    <tr>\n",
       "      <td>1</td>\n",
       "      <td>2021-01-01 00:30:00</td>\n",
       "      <td>2021-01-01 00:00:00</td>\n",
       "      <td>30분</td>\n",
       "      <td>61</td>\n",
       "    </tr>\n",
       "    <tr>\n",
       "      <td>2</td>\n",
       "      <td>2021-01-01 00:45:00</td>\n",
       "      <td>2021-01-01 00:00:00</td>\n",
       "      <td>45분</td>\n",
       "      <td>61</td>\n",
       "    </tr>\n",
       "    <tr>\n",
       "      <td>3</td>\n",
       "      <td>2021-01-01 01:00:00</td>\n",
       "      <td>2021-01-01 00:00:00</td>\n",
       "      <td>60분</td>\n",
       "      <td>61</td>\n",
       "    </tr>\n",
       "    <tr>\n",
       "      <td>4</td>\n",
       "      <td>2021-01-01 01:15:00</td>\n",
       "      <td>2021-01-01 01:00:00</td>\n",
       "      <td>15분</td>\n",
       "      <td>96</td>\n",
       "    </tr>\n",
       "    <tr>\n",
       "      <td>...</td>\n",
       "      <td>...</td>\n",
       "      <td>...</td>\n",
       "      <td>...</td>\n",
       "      <td>...</td>\n",
       "    </tr>\n",
       "    <tr>\n",
       "      <td>24667</td>\n",
       "      <td>2021-09-14 23:00:00</td>\n",
       "      <td>2021-09-14 22:00:00</td>\n",
       "      <td>60분</td>\n",
       "      <td>114</td>\n",
       "    </tr>\n",
       "    <tr>\n",
       "      <td>24668</td>\n",
       "      <td>2021-09-14 23:15:00</td>\n",
       "      <td>2021-09-14 23:00:00</td>\n",
       "      <td>15분</td>\n",
       "      <td>117</td>\n",
       "    </tr>\n",
       "    <tr>\n",
       "      <td>24669</td>\n",
       "      <td>2021-09-14 23:30:00</td>\n",
       "      <td>2021-09-14 23:00:00</td>\n",
       "      <td>30분</td>\n",
       "      <td>119</td>\n",
       "    </tr>\n",
       "    <tr>\n",
       "      <td>24670</td>\n",
       "      <td>2021-09-14 23:45:00</td>\n",
       "      <td>2021-09-14 23:00:00</td>\n",
       "      <td>45분</td>\n",
       "      <td>112</td>\n",
       "    </tr>\n",
       "    <tr>\n",
       "      <td>24671</td>\n",
       "      <td>2021-09-15 00:00:00</td>\n",
       "      <td>2021-09-14 23:00:00</td>\n",
       "      <td>60분</td>\n",
       "      <td>91</td>\n",
       "    </tr>\n",
       "  </tbody>\n",
       "</table>\n",
       "<p>24672 rows × 4 columns</p>\n",
       "</div>"
      ],
      "text/plain": [
       "                     Date            DateHour Minute  Value\n",
       "0     2021-01-01 00:15:00 2021-01-01 00:00:00    15분     62\n",
       "1     2021-01-01 00:30:00 2021-01-01 00:00:00    30분     61\n",
       "2     2021-01-01 00:45:00 2021-01-01 00:00:00    45분     61\n",
       "3     2021-01-01 01:00:00 2021-01-01 00:00:00    60분     61\n",
       "4     2021-01-01 01:15:00 2021-01-01 01:00:00    15분     96\n",
       "...                   ...                 ...    ...    ...\n",
       "24667 2021-09-14 23:00:00 2021-09-14 22:00:00    60분    114\n",
       "24668 2021-09-14 23:15:00 2021-09-14 23:00:00    15분    117\n",
       "24669 2021-09-14 23:30:00 2021-09-14 23:00:00    30분    119\n",
       "24670 2021-09-14 23:45:00 2021-09-14 23:00:00    45분    112\n",
       "24671 2021-09-15 00:00:00 2021-09-14 23:00:00    60분     91\n",
       "\n",
       "[24672 rows x 4 columns]"
      ]
     },
     "execution_count": 11,
     "metadata": {},
     "output_type": "execute_result"
    }
   ],
   "source": [
    "df_elec = pd.read_csv('elec.csv', parse_dates=['Date', 'DateHour'])\n",
    "df_elec"
   ]
  },
  {
   "cell_type": "code",
   "execution_count": 12,
   "id": "b9649c17",
   "metadata": {},
   "outputs": [
    {
     "data": {
      "text/html": [
       "<div>\n",
       "<style scoped>\n",
       "    .dataframe tbody tr th:only-of-type {\n",
       "        vertical-align: middle;\n",
       "    }\n",
       "\n",
       "    .dataframe tbody tr th {\n",
       "        vertical-align: top;\n",
       "    }\n",
       "\n",
       "    .dataframe thead th {\n",
       "        text-align: right;\n",
       "    }\n",
       "</style>\n",
       "<table border=\"1\" class=\"dataframe\">\n",
       "  <thead>\n",
       "    <tr style=\"text-align: right;\">\n",
       "      <th></th>\n",
       "      <th>Date</th>\n",
       "      <th>생산량</th>\n",
       "      <th>기온</th>\n",
       "      <th>풍속</th>\n",
       "      <th>습도</th>\n",
       "      <th>강수량</th>\n",
       "      <th>전기요금(계절)</th>\n",
       "      <th>공장인원</th>\n",
       "      <th>인건비</th>\n",
       "    </tr>\n",
       "  </thead>\n",
       "  <tbody>\n",
       "    <tr>\n",
       "      <td>0</td>\n",
       "      <td>2021-01-01 00:00:00</td>\n",
       "      <td>0</td>\n",
       "      <td>-3.2</td>\n",
       "      <td>2.4</td>\n",
       "      <td>71</td>\n",
       "      <td>0.0</td>\n",
       "      <td>109.8</td>\n",
       "      <td>0.000000</td>\n",
       "      <td>1.5</td>\n",
       "    </tr>\n",
       "    <tr>\n",
       "      <td>1</td>\n",
       "      <td>2021-01-01 01:00:00</td>\n",
       "      <td>0</td>\n",
       "      <td>-4.5</td>\n",
       "      <td>1.5</td>\n",
       "      <td>77</td>\n",
       "      <td>0.0</td>\n",
       "      <td>109.8</td>\n",
       "      <td>0.000000</td>\n",
       "      <td>1.5</td>\n",
       "    </tr>\n",
       "    <tr>\n",
       "      <td>2</td>\n",
       "      <td>2021-01-01 02:00:00</td>\n",
       "      <td>0</td>\n",
       "      <td>-3.9</td>\n",
       "      <td>2.6</td>\n",
       "      <td>58</td>\n",
       "      <td>0.0</td>\n",
       "      <td>109.8</td>\n",
       "      <td>0.000000</td>\n",
       "      <td>1.5</td>\n",
       "    </tr>\n",
       "    <tr>\n",
       "      <td>3</td>\n",
       "      <td>2021-01-01 03:00:00</td>\n",
       "      <td>0</td>\n",
       "      <td>-4.1</td>\n",
       "      <td>2.6</td>\n",
       "      <td>56</td>\n",
       "      <td>0.0</td>\n",
       "      <td>109.8</td>\n",
       "      <td>0.000000</td>\n",
       "      <td>1.5</td>\n",
       "    </tr>\n",
       "    <tr>\n",
       "      <td>4</td>\n",
       "      <td>2021-01-01 04:00:00</td>\n",
       "      <td>0</td>\n",
       "      <td>-4.6</td>\n",
       "      <td>2.6</td>\n",
       "      <td>60</td>\n",
       "      <td>0.0</td>\n",
       "      <td>109.8</td>\n",
       "      <td>0.000000</td>\n",
       "      <td>1.5</td>\n",
       "    </tr>\n",
       "    <tr>\n",
       "      <td>...</td>\n",
       "      <td>...</td>\n",
       "      <td>...</td>\n",
       "      <td>...</td>\n",
       "      <td>...</td>\n",
       "      <td>...</td>\n",
       "      <td>...</td>\n",
       "      <td>...</td>\n",
       "      <td>...</td>\n",
       "      <td>...</td>\n",
       "    </tr>\n",
       "    <tr>\n",
       "      <td>6163</td>\n",
       "      <td>2021-09-14 19:00:00</td>\n",
       "      <td>1497</td>\n",
       "      <td>21.7</td>\n",
       "      <td>3.6</td>\n",
       "      <td>85</td>\n",
       "      <td>9.4</td>\n",
       "      <td>167.2</td>\n",
       "      <td>2.442088</td>\n",
       "      <td>1.5</td>\n",
       "    </tr>\n",
       "    <tr>\n",
       "      <td>6164</td>\n",
       "      <td>2021-09-14 20:00:00</td>\n",
       "      <td>45</td>\n",
       "      <td>22.2</td>\n",
       "      <td>4.2</td>\n",
       "      <td>78</td>\n",
       "      <td>9.4</td>\n",
       "      <td>167.2</td>\n",
       "      <td>0.087891</td>\n",
       "      <td>1.5</td>\n",
       "    </tr>\n",
       "    <tr>\n",
       "      <td>6165</td>\n",
       "      <td>2021-09-14 21:00:00</td>\n",
       "      <td>149</td>\n",
       "      <td>22.2</td>\n",
       "      <td>4.3</td>\n",
       "      <td>76</td>\n",
       "      <td>9.4</td>\n",
       "      <td>167.2</td>\n",
       "      <td>0.290448</td>\n",
       "      <td>1.5</td>\n",
       "    </tr>\n",
       "    <tr>\n",
       "      <td>6166</td>\n",
       "      <td>2021-09-14 22:00:00</td>\n",
       "      <td>66</td>\n",
       "      <td>22.0</td>\n",
       "      <td>2.5</td>\n",
       "      <td>79</td>\n",
       "      <td>9.4</td>\n",
       "      <td>167.2</td>\n",
       "      <td>0.148984</td>\n",
       "      <td>1.5</td>\n",
       "    </tr>\n",
       "    <tr>\n",
       "      <td>6167</td>\n",
       "      <td>2021-09-14 23:00:00</td>\n",
       "      <td>405</td>\n",
       "      <td>22.0</td>\n",
       "      <td>2.5</td>\n",
       "      <td>79</td>\n",
       "      <td>9.4</td>\n",
       "      <td>167.2</td>\n",
       "      <td>0.922551</td>\n",
       "      <td>1.5</td>\n",
       "    </tr>\n",
       "  </tbody>\n",
       "</table>\n",
       "<p>6168 rows × 9 columns</p>\n",
       "</div>"
      ],
      "text/plain": [
       "                     Date   생산량    기온   풍속  습도  강수량  전기요금(계절)      공장인원  인건비\n",
       "0     2021-01-01 00:00:00     0  -3.2  2.4  71  0.0     109.8  0.000000  1.5\n",
       "1     2021-01-01 01:00:00     0  -4.5  1.5  77  0.0     109.8  0.000000  1.5\n",
       "2     2021-01-01 02:00:00     0  -3.9  2.6  58  0.0     109.8  0.000000  1.5\n",
       "3     2021-01-01 03:00:00     0  -4.1  2.6  56  0.0     109.8  0.000000  1.5\n",
       "4     2021-01-01 04:00:00     0  -4.6  2.6  60  0.0     109.8  0.000000  1.5\n",
       "...                   ...   ...   ...  ...  ..  ...       ...       ...  ...\n",
       "6163  2021-09-14 19:00:00  1497  21.7  3.6  85  9.4     167.2  2.442088  1.5\n",
       "6164  2021-09-14 20:00:00    45  22.2  4.2  78  9.4     167.2  0.087891  1.5\n",
       "6165  2021-09-14 21:00:00   149  22.2  4.3  76  9.4     167.2  0.290448  1.5\n",
       "6166  2021-09-14 22:00:00    66  22.0  2.5  79  9.4     167.2  0.148984  1.5\n",
       "6167  2021-09-14 23:00:00   405  22.0  2.5  79  9.4     167.2  0.922551  1.5\n",
       "\n",
       "[6168 rows x 9 columns]"
      ]
     },
     "execution_count": 12,
     "metadata": {},
     "output_type": "execute_result"
    }
   ],
   "source": [
    "df_info = pd.read_csv('info.csv')\n",
    "df_info"
   ]
  },
  {
   "cell_type": "code",
   "execution_count": 13,
   "id": "79933808",
   "metadata": {},
   "outputs": [],
   "source": [
    "df_elec1 = df_elec.set_index(['DateHour', 'Minute'])['Value'].unstack()"
   ]
  },
  {
   "cell_type": "code",
   "execution_count": 14,
   "id": "5789c308",
   "metadata": {},
   "outputs": [],
   "source": [
    "holi = pd.to_datetime(\n",
    "    [\"2021-01-01\", \"2021-02-11\", \"2021-02-12\", \"2021-03-01\", \"2021-05-05\", \"2021-05-19\", \"2021-08-16\"]\n",
    ").date # 일자의 비교여서 일자 형식으로 맞춰 줍니다\n",
    "min_cols = ['15분', '30분', '45분', '60분']\n",
    "df_elec1 = df_elec1.assign(\n",
    "    DayName = df_elec1.index.weekday,\n",
    "    Hour = df_elec1.index.hour,\n",
    "    AM = (df_elec1.index.hour >= 12).astype(int),\n",
    "    Weekend_yn = df_elec1.index.weekday.isin([5, 6]).astype(int),\n",
    "    Holiday_yn = np.isin(df_elec1.index.date, holi).astype(int), # numpy 형식이니 np.isin을 씁니다\n",
    "    Avg = df_elec1[min_cols].mean(axis=1),\n",
    "    TotalHour = df_elec1[min_cols].sum(axis=1),\n",
    ")\n",
    "df_info1 = df_info.fillna(0)\n",
    "df_basetable1 = df_elec1.join(df_info1.set_index('Date'), how='inner')\n",
    "df_basetable1['target'] = df_basetable1['TotalHour'].shift(-24)\n",
    "df_prob6 = pd.concat(\n",
    "    [df_basetable1] +\n",
    "    [df_basetable1['TotalHour'].shift(24 * i).rename('lag_{}'.format(i)) for i in range(1, 7)], \n",
    "    axis=1\n",
    ").dropna()"
   ]
  },
  {
   "cell_type": "code",
   "execution_count": 15,
   "id": "eb8900f1",
   "metadata": {},
   "outputs": [],
   "source": [
    "# df_prob6_train이 학습셋입니다.\n",
    "df_prob6_train = df_prob6.loc[df_prob6.index < '2021-08-14'].copy()\n",
    "# df_prob6_test는 입력만 알고 있다는 가정하에서 진행합니다.\n",
    "df_prob6_test = df_prob6.loc[df_prob6.index >= '2021-08-14'].copy()"
   ]
  },
  {
   "cell_type": "code",
   "execution_count": 16,
   "id": "b773e0dc",
   "metadata": {},
   "outputs": [],
   "source": [
    "# Kaggle 문제 내에서 학습셋과 테스트셋을 나눕니다.\n",
    "df_train = df_prob6_train.loc[df_prob6_train.index < '2021-07-14'].copy()\n",
    "df_test = df_prob6_train.loc[df_prob6_train.index >= '2021-07-14'].copy()"
   ]
  },
  {
   "cell_type": "code",
   "execution_count": 20,
   "id": "6cc17c44",
   "metadata": {},
   "outputs": [],
   "source": [
    "from sklearn.pipeline import make_pipeline\n",
    "from sklearn.compose import ColumnTransformer\n",
    "from sklearn.metrics import mean_absolute_error"
   ]
  },
  {
   "cell_type": "code",
   "execution_count": 18,
   "id": "5062c7cc",
   "metadata": {},
   "outputs": [
    {
     "data": {
      "text/plain": [
       "Pipeline(memory=None,\n",
       "         steps=[('standardscaler',\n",
       "                 StandardScaler(copy=True, with_mean=True, with_std=True)),\n",
       "                ('svr',\n",
       "                 SVR(C=10, cache_size=200, coef0=0.0, degree=3, epsilon=0.1,\n",
       "                     gamma=0.1, kernel='rbf', max_iter=-1, shrinking=True,\n",
       "                     tol=0.001, verbose=False))],\n",
       "         verbose=False)"
      ]
     },
     "execution_count": 18,
     "metadata": {},
     "output_type": "execute_result"
    }
   ],
   "source": [
    "from sklearn.svm import SVR\n",
    "from sklearn.preprocessing import StandardScaler\n",
    "\n",
    "# Baseline 모델을 만들어 봅니다.\n",
    "X_svr = ['TotalHour'] + ['lag_{}'.format(i) for i in range(1, 7)]\n",
    "reg_svm = make_pipeline(StandardScaler(), SVR(kernel='rbf', C = 10, gamma=0.1))\n",
    "reg_svm.fit(df_train[X_svr], df_train['target'])"
   ]
  },
  {
   "cell_type": "code",
   "execution_count": 21,
   "id": "d45086f9",
   "metadata": {},
   "outputs": [
    {
     "data": {
      "text/plain": [
       "148.65000821712516"
      ]
     },
     "execution_count": 21,
     "metadata": {},
     "output_type": "execute_result"
    }
   ],
   "source": [
    "mean_absolute_error(df_test['target'], reg_svm.predict(df_test[X_svr]))"
   ]
  },
  {
   "cell_type": "code",
   "execution_count": 26,
   "id": "915def69",
   "metadata": {},
   "outputs": [],
   "source": [
    "# Baseline으로 제출 결과를 만들어 냅니다.\n",
    "reg_svm.fit(df_prob6_train[X_svr], df_prob6_train['target'])\n",
    "pd.DataFrame(\n",
    "    reg_svm.predict(df_prob6_test[X_svr]),\n",
    "    columns=['TotalHour'],\n",
    "    index=df_prob6_test.index\n",
    ").to_csv('answer6.csv')"
   ]
  },
  {
   "cell_type": "code",
   "execution_count": 28,
   "id": "cd5d0834",
   "metadata": {},
   "outputs": [
    {
     "data": {
      "text/plain": [
       "Pipeline(memory=None,\n",
       "         steps=[('columntransformer',\n",
       "                 ColumnTransformer(n_jobs=None, remainder='drop',\n",
       "                                   sparse_threshold=0.3,\n",
       "                                   transformer_weights=None,\n",
       "                                   transformers=[('ohe',\n",
       "                                                  OneHotEncoder(categorical_features=None,\n",
       "                                                                categories='auto',\n",
       "                                                                drop=None,\n",
       "                                                                dtype=<class 'numpy.float64'>,\n",
       "                                                                handle_unknown='error',\n",
       "                                                                n_values=None,\n",
       "                                                                sparse=False),\n",
       "                                                  ['DayName']),\n",
       "                                                 ('std',\n",
       "                                                  StandardScaler(copy=True,\n",
       "                                                                 with_mean=True,\n",
       "                                                                 with_std=True),\n",
       "                                                  ['TotalHour', 'lag_1',\n",
       "                                                   'lag_2', 'lag_3', 'lag_4',\n",
       "                                                   'lag_5', 'lag_6'])],\n",
       "                                   verbose=False)),\n",
       "                ('svr',\n",
       "                 SVR(C=10, cache_size=200, coef0=0.0, degree=3, epsilon=0.1,\n",
       "                     gamma=0.1, kernel='rbf', max_iter=-1, shrinking=True,\n",
       "                     tol=0.001, verbose=False))],\n",
       "         verbose=False)"
      ]
     },
     "execution_count": 28,
     "metadata": {},
     "output_type": "execute_result"
    }
   ],
   "source": [
    "# 중요도가 높았던 DayName을 넣어 봅니다.\n",
    "from sklearn.preprocessing import OneHotEncoder\n",
    "ct = ColumnTransformer([\n",
    "    ('ohe', OneHotEncoder(sparse=False, categories='auto'), ['DayName']),\n",
    "    ('std', StandardScaler(), ['TotalHour'] + ['lag_{}'.format(i) for i in range(1, 7)])\n",
    "])\n",
    "\n",
    "X_svr_2 = ['DayName', 'TotalHour'] + ['lag_{}'.format(i) for i in range(1, 7)]\n",
    "reg_svm_2 = make_pipeline(ct, SVR(kernel='rbf', C = 10, gamma=0.1))\n",
    "reg_svm_2.fit(df_train[X_svr_2], df_train['target'])"
   ]
  },
  {
   "cell_type": "code",
   "execution_count": 30,
   "id": "dc69c3b1",
   "metadata": {},
   "outputs": [
    {
     "data": {
      "text/plain": [
       "145.77442370868258"
      ]
     },
     "execution_count": 30,
     "metadata": {},
     "output_type": "execute_result"
    }
   ],
   "source": [
    "# 약간의 개선점이 보입니다.\n",
    "mean_absolute_error(df_test['target'], reg_svm_2.predict(df_test[X_svr_2]))"
   ]
  },
  {
   "cell_type": "code",
   "execution_count": 31,
   "id": "61dc76af",
   "metadata": {},
   "outputs": [
    {
     "data": {
      "text/plain": [
       "GradientBoostingRegressor(alpha=0.9, criterion='friedman_mse', init=None,\n",
       "                          learning_rate=0.1, loss='ls', max_depth=10,\n",
       "                          max_features=None, max_leaf_nodes=None,\n",
       "                          min_impurity_decrease=0.0, min_impurity_split=None,\n",
       "                          min_samples_leaf=4, min_samples_split=2,\n",
       "                          min_weight_fraction_leaf=0.0, n_estimators=75,\n",
       "                          n_iter_no_change=None, presort='auto',\n",
       "                          random_state=123, subsample=1.0, tol=0.0001,\n",
       "                          validation_fraction=0.1, verbose=0, warm_start=False)"
      ]
     },
     "execution_count": 31,
     "metadata": {},
     "output_type": "execute_result"
    }
   ],
   "source": [
    "# 문제 4에서 사용했던 GradientBoostingRegressor로 해봅니다\n",
    "from sklearn.ensemble import GradientBoostingRegressor\n",
    "X_gb = \"15분, 30분, 45분, 60분, DayName, Hour, AM, Weekend_yn, Holiday_yn, Avg, TotalHour, 생산량, 기온, 풍속, 습도, 강수량, 전기요금(계절), 공장인원, 인건비\"\n",
    "X_gb = [i.strip() for i in X_gb.split(',')]\n",
    "reg_gb = GradientBoostingRegressor(\n",
    "    n_estimators=75,\n",
    "    max_depth=10,\n",
    "    min_samples_leaf=4,\n",
    "    random_state=123\n",
    ")\n",
    "reg_gb.fit(df_train[X_gb], df_train['target'])"
   ]
  },
  {
   "cell_type": "code",
   "execution_count": 33,
   "id": "8754714a",
   "metadata": {},
   "outputs": [
    {
     "data": {
      "text/plain": [
       "112.8586555932534"
      ]
     },
     "execution_count": 33,
     "metadata": {},
     "output_type": "execute_result"
    }
   ],
   "source": [
    "# 상당히 개선됐습니다.\n",
    "mean_absolute_error(df_test['target'], reg_gb.predict(df_test[X_cols]))"
   ]
  },
  {
   "cell_type": "code",
   "execution_count": 37,
   "id": "1a1a67d5",
   "metadata": {},
   "outputs": [
    {
     "data": {
      "text/plain": [
       "VotingRegressor(estimators=[('svr',\n",
       "                             Pipeline(memory=None,\n",
       "                                      steps=[('columntransformer',\n",
       "                                              ColumnTransformer(n_jobs=None,\n",
       "                                                                remainder='drop',\n",
       "                                                                sparse_threshold=0.3,\n",
       "                                                                transformer_weights=None,\n",
       "                                                                transformers=[('ohe',\n",
       "                                                                               OneHotEncoder(categorical_features=None,\n",
       "                                                                                             categories='auto',\n",
       "                                                                                             drop=None,\n",
       "                                                                                             dtype=<class 'numpy.float64'>,\n",
       "                                                                                             handle_unknown='error',\n",
       "                                                                                             n_values=None,\n",
       "                                                                                             sparse=False),\n",
       "                                                                               ['Da...\n",
       "                                                       loss='ls', max_depth=10,\n",
       "                                                       max_features=None,\n",
       "                                                       max_leaf_nodes=None,\n",
       "                                                       min_impurity_decrease=0.0,\n",
       "                                                       min_impurity_split=None,\n",
       "                                                       min_samples_leaf=4,\n",
       "                                                       min_samples_split=2,\n",
       "                                                       min_weight_fraction_leaf=0.0,\n",
       "                                                       n_estimators=75,\n",
       "                                                       n_iter_no_change=None,\n",
       "                                                       presort='auto',\n",
       "                                                       random_state=123,\n",
       "                                                       subsample=1.0,\n",
       "                                                       tol=0.0001,\n",
       "                                                       validation_fraction=0.1,\n",
       "                                                       verbose=0,\n",
       "                                                       warm_start=False))],\n",
       "                n_jobs=None, weights=None)"
      ]
     },
     "execution_count": 37,
     "metadata": {},
     "output_type": "execute_result"
    }
   ],
   "source": [
    "from sklearn.ensemble import VotingRegressor\n",
    "# 둘을 합친 Voting 앙상블 모델을 만들어 봅니다.\n",
    "reg_vt = VotingRegressor([\n",
    "    ('svr', reg_svm_2),\n",
    "    ('gb', reg_gb)\n",
    "])\n",
    "X_vt = X_cols + ['lag_{}'.format(i) for i in range(1, 7)]\n",
    "reg_vt.fit(df_train[X_vt], df_train['target'])"
   ]
  },
  {
   "cell_type": "code",
   "execution_count": 38,
   "id": "55d30bf2",
   "metadata": {},
   "outputs": [
    {
     "data": {
      "text/plain": [
       "146.83497429612407"
      ]
     },
     "execution_count": 38,
     "metadata": {},
     "output_type": "execute_result"
    }
   ],
   "source": [
    "mean_absolute_error(df_test['target'], reg_vt.predict(df_test[X_vt]))"
   ]
  },
  {
   "cell_type": "code",
   "execution_count": 40,
   "id": "bcffe719",
   "metadata": {},
   "outputs": [],
   "source": [
    "X_gb = \"15분, 30분, 45분, 60분, DayName, Hour, AM, Weekend_yn, Holiday_yn, Avg, TotalHour, 생산량, 기온, 풍속, 습도, 강수량, 전기요금(계절), 공장인원, 인건비\"\n",
    "X_gb = [i.strip() for i in X_gb.split(',')]\n",
    "reg_gb.fit(df_prob6_train[X_gb], df_prob6_train['target'])\n",
    "pd.DataFrame(\n",
    "    reg_gb.predict(df_prob6_test[X_gb]),\n",
    "    columns=['TotalHour'],\n",
    "    index=df_prob6_test.index\n",
    ").to_csv('answer6.csv')"
   ]
  },
  {
   "cell_type": "code",
   "execution_count": null,
   "id": "ec79339b",
   "metadata": {},
   "outputs": [],
   "source": []
  }
 ],
 "metadata": {
  "kernelspec": {
   "display_name": "Python 3 (ipykernel)",
   "language": "python",
   "name": "python3"
  },
  "language_info": {
   "codemirror_mode": {
    "name": "ipython",
    "version": 3
   },
   "file_extension": ".py",
   "mimetype": "text/x-python",
   "name": "python",
   "nbconvert_exporter": "python",
   "pygments_lexer": "ipython3",
   "version": "3.7.4"
  }
 },
 "nbformat": 4,
 "nbformat_minor": 5
}
